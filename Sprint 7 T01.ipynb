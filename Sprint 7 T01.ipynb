{
 "cells": [
  {
   "cell_type": "markdown",
   "id": "3eae91d7",
   "metadata": {},
   "source": [
    "# S07 T01: Tasca del test d'hipòtesis\n",
    "Descripció\n",
    "Aprèn a realitzar test d'hipòtesis amb Python."
   ]
  },
  {
   "cell_type": "markdown",
   "id": "e508eef3",
   "metadata": {},
   "source": [
    "## NIVELL 1\n",
    "### Exercici 1\n",
    "Agafa un conjunt de dades de tema esportiu que t'agradi i selecciona un atribut del conjunt de dades. Calcula el p-valor i digues si rebutja la hipòtesi nul·la agafant un alfa de 5%. \n",
    "\n"
   ]
  },
  {
   "cell_type": "markdown",
   "id": "417f3134",
   "metadata": {},
   "source": [
    "Per a realitzar aquest sprint utilitzo el mateix conjunt de dades que els sprints 5 i 6, relacionat amb les jugadores del mundial de futbol femení 2019."
   ]
  },
  {
   "cell_type": "code",
   "execution_count": 1,
   "id": "85026b0a",
   "metadata": {
    "ExecuteTime": {
     "end_time": "2022-06-13T15:10:32.676094Z",
     "start_time": "2022-06-13T15:10:22.851628Z"
    }
   },
   "outputs": [
    {
     "data": {
      "text/html": [
       "<div>\n",
       "<style scoped>\n",
       "    .dataframe tbody tr th:only-of-type {\n",
       "        vertical-align: middle;\n",
       "    }\n",
       "\n",
       "    .dataframe tbody tr th {\n",
       "        vertical-align: top;\n",
       "    }\n",
       "\n",
       "    .dataframe thead th {\n",
       "        text-align: right;\n",
       "    }\n",
       "</style>\n",
       "<table border=\"1\" class=\"dataframe\">\n",
       "  <thead>\n",
       "    <tr style=\"text-align: right;\">\n",
       "      <th></th>\n",
       "      <th>Squad no.</th>\n",
       "      <th>Country</th>\n",
       "      <th>Pos.</th>\n",
       "      <th>Player</th>\n",
       "      <th>DOB</th>\n",
       "      <th>Age</th>\n",
       "      <th>Caps</th>\n",
       "      <th>Goals</th>\n",
       "      <th>Club</th>\n",
       "    </tr>\n",
       "  </thead>\n",
       "  <tbody>\n",
       "    <tr>\n",
       "      <th>0</th>\n",
       "      <td>1</td>\n",
       "      <td>US</td>\n",
       "      <td>GK</td>\n",
       "      <td>Alyssa Naeher</td>\n",
       "      <td>20-abr-88</td>\n",
       "      <td>31</td>\n",
       "      <td>43.0</td>\n",
       "      <td>0.0</td>\n",
       "      <td>Chicago Red Stars</td>\n",
       "    </tr>\n",
       "    <tr>\n",
       "      <th>1</th>\n",
       "      <td>2</td>\n",
       "      <td>US</td>\n",
       "      <td>FW</td>\n",
       "      <td>Mallory Pugh</td>\n",
       "      <td>29-abr-98</td>\n",
       "      <td>21</td>\n",
       "      <td>50.0</td>\n",
       "      <td>15.0</td>\n",
       "      <td>Washington Spirit</td>\n",
       "    </tr>\n",
       "    <tr>\n",
       "      <th>2</th>\n",
       "      <td>3</td>\n",
       "      <td>US</td>\n",
       "      <td>MF</td>\n",
       "      <td>Sam Mewis</td>\n",
       "      <td>09-oct-92</td>\n",
       "      <td>26</td>\n",
       "      <td>47.0</td>\n",
       "      <td>9.0</td>\n",
       "      <td>North Carolina Courage</td>\n",
       "    </tr>\n",
       "    <tr>\n",
       "      <th>3</th>\n",
       "      <td>4</td>\n",
       "      <td>US</td>\n",
       "      <td>DF</td>\n",
       "      <td>Becky Sauerbrunn</td>\n",
       "      <td>06-jun-85</td>\n",
       "      <td>34</td>\n",
       "      <td>155.0</td>\n",
       "      <td>0.0</td>\n",
       "      <td>Utah Royals</td>\n",
       "    </tr>\n",
       "    <tr>\n",
       "      <th>4</th>\n",
       "      <td>5</td>\n",
       "      <td>US</td>\n",
       "      <td>DF</td>\n",
       "      <td>Kelley O'Hara</td>\n",
       "      <td>04-ago-88</td>\n",
       "      <td>30</td>\n",
       "      <td>115.0</td>\n",
       "      <td>2.0</td>\n",
       "      <td>Utah Royals</td>\n",
       "    </tr>\n",
       "    <tr>\n",
       "      <th>...</th>\n",
       "      <td>...</td>\n",
       "      <td>...</td>\n",
       "      <td>...</td>\n",
       "      <td>...</td>\n",
       "      <td>...</td>\n",
       "      <td>...</td>\n",
       "      <td>...</td>\n",
       "      <td>...</td>\n",
       "      <td>...</td>\n",
       "    </tr>\n",
       "    <tr>\n",
       "      <th>547</th>\n",
       "      <td>19</td>\n",
       "      <td>France</td>\n",
       "      <td>DF</td>\n",
       "      <td>Griedge Mbock Bathy</td>\n",
       "      <td>26-feb-95</td>\n",
       "      <td>24</td>\n",
       "      <td>49.0</td>\n",
       "      <td>4.0</td>\n",
       "      <td>Lyon</td>\n",
       "    </tr>\n",
       "    <tr>\n",
       "      <th>548</th>\n",
       "      <td>20</td>\n",
       "      <td>France</td>\n",
       "      <td>FW</td>\n",
       "      <td>Delphine Cascarino</td>\n",
       "      <td>05-feb-97</td>\n",
       "      <td>22</td>\n",
       "      <td>11.0</td>\n",
       "      <td>1.0</td>\n",
       "      <td>Lyon</td>\n",
       "    </tr>\n",
       "    <tr>\n",
       "      <th>549</th>\n",
       "      <td>21</td>\n",
       "      <td>France</td>\n",
       "      <td>GK</td>\n",
       "      <td>Pauline Peyraud-Magnin</td>\n",
       "      <td>17-mar-92</td>\n",
       "      <td>27</td>\n",
       "      <td>1.0</td>\n",
       "      <td>0.0</td>\n",
       "      <td>Arsenal</td>\n",
       "    </tr>\n",
       "    <tr>\n",
       "      <th>550</th>\n",
       "      <td>22</td>\n",
       "      <td>France</td>\n",
       "      <td>DF</td>\n",
       "      <td>Julie Debever</td>\n",
       "      <td>18-abr-88</td>\n",
       "      <td>31</td>\n",
       "      <td>2.0</td>\n",
       "      <td>0.0</td>\n",
       "      <td>Guingamp</td>\n",
       "    </tr>\n",
       "    <tr>\n",
       "      <th>551</th>\n",
       "      <td>23</td>\n",
       "      <td>France</td>\n",
       "      <td>MF</td>\n",
       "      <td>Maéva Clémaron</td>\n",
       "      <td>10-nov-92</td>\n",
       "      <td>26</td>\n",
       "      <td>3.0</td>\n",
       "      <td>0.0</td>\n",
       "      <td>Fleury</td>\n",
       "    </tr>\n",
       "  </tbody>\n",
       "</table>\n",
       "<p>552 rows × 9 columns</p>\n",
       "</div>"
      ],
      "text/plain": [
       "     Squad no. Country Pos.                  Player        DOB  Age   Caps  \\\n",
       "0            1      US   GK           Alyssa Naeher  20-abr-88   31   43.0   \n",
       "1            2      US   FW            Mallory Pugh  29-abr-98   21   50.0   \n",
       "2            3      US   MF               Sam Mewis  09-oct-92   26   47.0   \n",
       "3            4      US   DF        Becky Sauerbrunn  06-jun-85   34  155.0   \n",
       "4            5      US   DF           Kelley O'Hara  04-ago-88   30  115.0   \n",
       "..         ...     ...  ...                     ...        ...  ...    ...   \n",
       "547         19  France   DF     Griedge Mbock Bathy  26-feb-95   24   49.0   \n",
       "548         20  France   FW      Delphine Cascarino  05-feb-97   22   11.0   \n",
       "549         21  France   GK  Pauline Peyraud-Magnin  17-mar-92   27    1.0   \n",
       "550         22  France   DF          Julie Debever   18-abr-88   31    2.0   \n",
       "551         23  France   MF         Maéva Clémaron   10-nov-92   26    3.0   \n",
       "\n",
       "     Goals                    Club  \n",
       "0      0.0       Chicago Red Stars  \n",
       "1     15.0       Washington Spirit  \n",
       "2      9.0  North Carolina Courage  \n",
       "3      0.0             Utah Royals  \n",
       "4      2.0             Utah Royals  \n",
       "..     ...                     ...  \n",
       "547    4.0                    Lyon  \n",
       "548    1.0                    Lyon  \n",
       "549    0.0                 Arsenal  \n",
       "550    0.0                Guingamp  \n",
       "551    0.0                  Fleury  \n",
       "\n",
       "[552 rows x 9 columns]"
      ]
     },
     "metadata": {},
     "output_type": "display_data"
    }
   ],
   "source": [
    "# Crido a les llibreries que necessito\n",
    "# Faig entrar l'arxiu CSV gràcies a pandas\n",
    "\n",
    "import pandas as pd\n",
    "import numpy as np\n",
    "import random\n",
    "import matplotlib.pyplot as plt\n",
    "import seaborn as sns\n",
    "import imblearn\n",
    "\n",
    "women = pd.read_csv(\"C:\\\\Users\\\\Anna\\DataScience\\\\SPRINTS\\\\SPRINT 5\\\\Womens Squads.csv\", encoding = \"ISO-8859-1\", engine='python', sep=\";\")\n",
    "\n",
    "display(women)"
   ]
  },
  {
   "cell_type": "markdown",
   "id": "f9abef52",
   "metadata": {},
   "source": [
    "Abans de començar a fer l'exercici, faig una mica d'estudi de les dades"
   ]
  },
  {
   "cell_type": "code",
   "execution_count": 2,
   "id": "d51f0b66",
   "metadata": {
    "ExecuteTime": {
     "end_time": "2022-06-13T15:10:32.691216Z",
     "start_time": "2022-06-13T15:10:32.679093Z"
    }
   },
   "outputs": [
    {
     "data": {
      "text/plain": [
       "Squad no.    552\n",
       "Country      552\n",
       "Pos.         552\n",
       "Player       552\n",
       "DOB          552\n",
       "Age          552\n",
       "Caps         520\n",
       "Goals        520\n",
       "Club         552\n",
       "dtype: int64"
      ]
     },
     "execution_count": 2,
     "metadata": {},
     "output_type": "execute_result"
    }
   ],
   "source": [
    "women.count()"
   ]
  },
  {
   "cell_type": "code",
   "execution_count": 3,
   "id": "eec4d42e",
   "metadata": {
    "ExecuteTime": {
     "end_time": "2022-06-13T15:10:32.721628Z",
     "start_time": "2022-06-13T15:10:32.693217Z"
    }
   },
   "outputs": [
    {
     "name": "stdout",
     "output_type": "stream",
     "text": [
      "     Squad no.  Country   Pos.  Player    DOB    Age   Caps  Goals   Club\n",
      "0        False    False  False   False  False  False  False  False  False\n",
      "1        False    False  False   False  False  False  False  False  False\n",
      "2        False    False  False   False  False  False  False  False  False\n",
      "3        False    False  False   False  False  False  False  False  False\n",
      "4        False    False  False   False  False  False  False  False  False\n",
      "..         ...      ...    ...     ...    ...    ...    ...    ...    ...\n",
      "547      False    False  False   False  False  False  False  False  False\n",
      "548      False    False  False   False  False  False  False  False  False\n",
      "549      False    False  False   False  False  False  False  False  False\n",
      "550      False    False  False   False  False  False  False  False  False\n",
      "551      False    False  False   False  False  False  False  False  False\n",
      "\n",
      "[552 rows x 9 columns]\n",
      "____________________________________________________________________________\n",
      "Squad no.    552\n",
      "Country      552\n",
      "Pos.         552\n",
      "Player       552\n",
      "DOB          552\n",
      "Age          552\n",
      "Caps         520\n",
      "Goals        520\n",
      "Club         552\n",
      "dtype: int64\n",
      "____________________________________________________________________________\n",
      "Squad no.     0\n",
      "Country       0\n",
      "Pos.          0\n",
      "Player        0\n",
      "DOB           0\n",
      "Age           0\n",
      "Caps         32\n",
      "Goals        32\n",
      "Club          0\n",
      "dtype: int64\n"
     ]
    }
   ],
   "source": [
    "# Com que en l'anterior punt veiem que les columnes \"Caps\" i \"Goals\" tenen menys quantitat de dades que la resta de columnes, em fa sospitar que hi ha nuls en aquest dataset, per tant ho comprovo\n",
    "\n",
    "print(women.isnull())\n",
    "\n",
    "print(\"____________________________________________________________________________\")\n",
    "\n",
    "print(women.count())\n",
    "\n",
    "print(\"____________________________________________________________________________\")\n",
    "\n",
    "print(women.isnull().sum())"
   ]
  },
  {
   "cell_type": "code",
   "execution_count": 4,
   "id": "34e94978",
   "metadata": {
    "ExecuteTime": {
     "end_time": "2022-06-13T15:10:32.736837Z",
     "start_time": "2022-06-13T15:10:32.723627Z"
    }
   },
   "outputs": [
    {
     "data": {
      "text/plain": [
       "Squad no.    520\n",
       "Country      520\n",
       "Pos.         520\n",
       "Player       520\n",
       "DOB          520\n",
       "Age          520\n",
       "Caps         520\n",
       "Goals        520\n",
       "Club         520\n",
       "dtype: int64"
      ]
     },
     "execution_count": 4,
     "metadata": {},
     "output_type": "execute_result"
    }
   ],
   "source": [
    "# Eliminem les files que contenen algun valor nul i comprobem que s'han eliminat, de manera que totes les files tenen la mateixa mida ara.\n",
    "\n",
    "women = women.dropna(subset=[\"Caps\", \"Goals\"])\n",
    "\n",
    "women.count()"
   ]
  },
  {
   "cell_type": "code",
   "execution_count": 5,
   "id": "6178430c",
   "metadata": {
    "ExecuteTime": {
     "end_time": "2022-06-13T15:10:32.784672Z",
     "start_time": "2022-06-13T15:10:32.738897Z"
    }
   },
   "outputs": [
    {
     "data": {
      "text/html": [
       "<div>\n",
       "<style scoped>\n",
       "    .dataframe tbody tr th:only-of-type {\n",
       "        vertical-align: middle;\n",
       "    }\n",
       "\n",
       "    .dataframe tbody tr th {\n",
       "        vertical-align: top;\n",
       "    }\n",
       "\n",
       "    .dataframe thead th {\n",
       "        text-align: right;\n",
       "    }\n",
       "</style>\n",
       "<table border=\"1\" class=\"dataframe\">\n",
       "  <thead>\n",
       "    <tr style=\"text-align: right;\">\n",
       "      <th></th>\n",
       "      <th>Squad no.</th>\n",
       "      <th>Age</th>\n",
       "      <th>Caps</th>\n",
       "      <th>Goals</th>\n",
       "    </tr>\n",
       "  </thead>\n",
       "  <tbody>\n",
       "    <tr>\n",
       "      <th>count</th>\n",
       "      <td>520.000000</td>\n",
       "      <td>520.000000</td>\n",
       "      <td>520.000000</td>\n",
       "      <td>520.000000</td>\n",
       "    </tr>\n",
       "    <tr>\n",
       "      <th>mean</th>\n",
       "      <td>11.867308</td>\n",
       "      <td>26.178846</td>\n",
       "      <td>43.661538</td>\n",
       "      <td>7.348077</td>\n",
       "    </tr>\n",
       "    <tr>\n",
       "      <th>std</th>\n",
       "      <td>6.609365</td>\n",
       "      <td>3.996715</td>\n",
       "      <td>43.674846</td>\n",
       "      <td>15.541727</td>\n",
       "    </tr>\n",
       "    <tr>\n",
       "      <th>min</th>\n",
       "      <td>1.000000</td>\n",
       "      <td>16.000000</td>\n",
       "      <td>0.000000</td>\n",
       "      <td>0.000000</td>\n",
       "    </tr>\n",
       "    <tr>\n",
       "      <th>25%</th>\n",
       "      <td>6.000000</td>\n",
       "      <td>23.000000</td>\n",
       "      <td>11.750000</td>\n",
       "      <td>0.000000</td>\n",
       "    </tr>\n",
       "    <tr>\n",
       "      <th>50%</th>\n",
       "      <td>12.000000</td>\n",
       "      <td>26.000000</td>\n",
       "      <td>29.500000</td>\n",
       "      <td>1.500000</td>\n",
       "    </tr>\n",
       "    <tr>\n",
       "      <th>75%</th>\n",
       "      <td>18.000000</td>\n",
       "      <td>29.000000</td>\n",
       "      <td>62.000000</td>\n",
       "      <td>8.250000</td>\n",
       "    </tr>\n",
       "    <tr>\n",
       "      <th>max</th>\n",
       "      <td>23.000000</td>\n",
       "      <td>41.000000</td>\n",
       "      <td>282.000000</td>\n",
       "      <td>181.000000</td>\n",
       "    </tr>\n",
       "  </tbody>\n",
       "</table>\n",
       "</div>"
      ],
      "text/plain": [
       "        Squad no.         Age        Caps       Goals\n",
       "count  520.000000  520.000000  520.000000  520.000000\n",
       "mean    11.867308   26.178846   43.661538    7.348077\n",
       "std      6.609365    3.996715   43.674846   15.541727\n",
       "min      1.000000   16.000000    0.000000    0.000000\n",
       "25%      6.000000   23.000000   11.750000    0.000000\n",
       "50%     12.000000   26.000000   29.500000    1.500000\n",
       "75%     18.000000   29.000000   62.000000    8.250000\n",
       "max     23.000000   41.000000  282.000000  181.000000"
      ]
     },
     "execution_count": 5,
     "metadata": {},
     "output_type": "execute_result"
    }
   ],
   "source": [
    "women.describe()"
   ]
  },
  {
   "cell_type": "markdown",
   "id": "d148a0ff",
   "metadata": {},
   "source": [
    "Decideixo treballar amb l'atribut \"Age\" i procedeixo a calcular el P-value i mirar si es rebutja la hipòtesi nul·la amb una alfa del 5%"
   ]
  },
  {
   "cell_type": "code",
   "execution_count": 6,
   "id": "087d6861",
   "metadata": {
    "ExecuteTime": {
     "end_time": "2022-06-13T15:10:32.816652Z",
     "start_time": "2022-06-13T15:10:32.787671Z"
    }
   },
   "outputs": [
    {
     "data": {
      "text/plain": [
       "0      31\n",
       "1      21\n",
       "2      26\n",
       "3      34\n",
       "4      30\n",
       "       ..\n",
       "547    24\n",
       "548    22\n",
       "549    27\n",
       "550    31\n",
       "551    26\n",
       "Name: Age, Length: 520, dtype: int64"
      ]
     },
     "metadata": {},
     "output_type": "display_data"
    }
   ],
   "source": [
    "# Em quedo només amb la columna d'edats\n",
    "\n",
    "edats = women.Age\n",
    "\n",
    "display(edats)"
   ]
  },
  {
   "cell_type": "code",
   "execution_count": 7,
   "id": "bab6f39a",
   "metadata": {
    "ExecuteTime": {
     "end_time": "2022-06-13T15:10:32.864623Z",
     "start_time": "2022-06-13T15:10:32.818651Z"
    }
   },
   "outputs": [
    {
     "data": {
      "text/plain": [
       "count    520.000000\n",
       "mean      26.178846\n",
       "std        3.996715\n",
       "min       16.000000\n",
       "25%       23.000000\n",
       "50%       26.000000\n",
       "75%       29.000000\n",
       "max       41.000000\n",
       "Name: Age, dtype: float64"
      ]
     },
     "execution_count": 7,
     "metadata": {},
     "output_type": "execute_result"
    }
   ],
   "source": [
    "edats.describe()"
   ]
  },
  {
   "cell_type": "code",
   "execution_count": 8,
   "id": "63e31ebe",
   "metadata": {
    "ExecuteTime": {
     "end_time": "2022-06-13T15:10:32.880614Z",
     "start_time": "2022-06-13T15:10:32.869619Z"
    }
   },
   "outputs": [
    {
     "name": "stdout",
     "output_type": "stream",
     "text": [
      "17     33\n",
      "209    31\n",
      "330    27\n",
      "184    27\n",
      "418    29\n",
      "113    25\n",
      "447    29\n",
      "440    28\n",
      "70     25\n",
      "435    28\n",
      "264    29\n",
      "78     25\n",
      "172    28\n",
      "420    21\n",
      "112    28\n",
      "131    26\n",
      "241    27\n",
      "413    18\n",
      "198    25\n",
      "510    36\n",
      "543    33\n",
      "2      26\n",
      "382    30\n",
      "286    22\n",
      "16     31\n",
      "404    22\n",
      "79     28\n",
      "409    25\n",
      "515    31\n",
      "223    21\n",
      "191    28\n",
      "538    26\n",
      "207    26\n",
      "267    30\n",
      "328    26\n",
      "178    27\n",
      "46     36\n",
      "194    27\n",
      "0      31\n",
      "523    24\n",
      "488    29\n",
      "154    21\n",
      "199    29\n",
      "297    22\n",
      "208    30\n",
      "142    23\n",
      "236    25\n",
      "509    27\n",
      "500    19\n",
      "23     29\n",
      "Name: Age, dtype: int64\n"
     ]
    }
   ],
   "source": [
    "# Agafo una mostra al·leatòria de 50 edats de la base de dades que tinc\n",
    "\n",
    "mostraEdats = edats.sample(n=50)\n",
    "print(mostraEdats)"
   ]
  },
  {
   "cell_type": "code",
   "execution_count": 9,
   "id": "92bde564",
   "metadata": {
    "ExecuteTime": {
     "end_time": "2022-06-13T15:10:32.928197Z",
     "start_time": "2022-06-13T15:10:32.882613Z"
    }
   },
   "outputs": [
    {
     "data": {
      "text/plain": [
       "count    50.000000\n",
       "mean     26.980000\n",
       "std       3.878197\n",
       "min      18.000000\n",
       "25%      25.000000\n",
       "50%      27.000000\n",
       "75%      29.000000\n",
       "max      36.000000\n",
       "Name: Age, dtype: float64"
      ]
     },
     "execution_count": 9,
     "metadata": {},
     "output_type": "execute_result"
    }
   ],
   "source": [
    "# En faig la descprició per veure les caracterísitques bàsiques\n",
    "\n",
    "mostraEdats.describe()"
   ]
  },
  {
   "cell_type": "code",
   "execution_count": 10,
   "id": "b051fcbd",
   "metadata": {
    "ExecuteTime": {
     "end_time": "2022-06-13T15:10:33.231011Z",
     "start_time": "2022-06-13T15:10:32.931194Z"
    }
   },
   "outputs": [
    {
     "data": {
      "image/png": "[encoded data removed]",
      "text/plain": [
       "<Figure size 720x360 with 1 Axes>"
      ]
     },
     "metadata": {
      "needs_background": "light"
     },
     "output_type": "display_data"
    }
   ],
   "source": [
    "#Faig un gràfic amb la totalitat de les edats del dataset i amb la mostra per veure una mica com s'assemblen\n",
    "\n",
    "plt.figure(figsize=(10,5))\n",
    "fig = sns.kdeplot(mostraEdats, shade=True, color=\"r\")\n",
    "fig = sns.kdeplot(women['Age'], shade=True, color=\"b\")\n",
    "plt.show()"
   ]
  },
  {
   "cell_type": "markdown",
   "id": "86b65bd1",
   "metadata": {},
   "source": [
    "Estableixo hipòtesi nul·la i hipòtesi alternativa\n",
    "\n",
    "En aquest cas, la hipòtesi nul·la és el fet acceptat, és a dir, que la mitjana d'edat de les jugadores de futbol femení que juguen a la selecció és de 26,179:\n",
    "\n",
    "Ho: μ = 26,179\n",
    "\n",
    "I com a hipòtesi alternativa, direm que la mitjana d'edat de les jugadores és diferent a 26,179:\n",
    "\n",
    "H1: μ ≠ 26,179"
   ]
  },
  {
   "cell_type": "code",
   "execution_count": 11,
   "id": "0f48fe1a",
   "metadata": {
    "ExecuteTime": {
     "end_time": "2022-06-13T15:10:33.247001Z",
     "start_time": "2022-06-13T15:10:33.233009Z"
    }
   },
   "outputs": [
    {
     "data": {
      "text/plain": [
       "Ttest_indResult(statistic=1.3572481561183973, pvalue=0.175241424014794)"
      ]
     },
     "execution_count": 11,
     "metadata": {},
     "output_type": "execute_result"
    }
   ],
   "source": [
    "# Importo les llibreries necessàries per a realitzar els càlculs que vull fer\n",
    "import scipy\n",
    "from scipy import stats\n",
    "\n",
    "# Calculo la T i el P-Value de la mostra de les edats\n",
    "scipy.stats.ttest_ind(mostraEdats, women[\"Age\"])\n"
   ]
  },
  {
   "cell_type": "markdown",
   "id": "ddd114b6",
   "metadata": {
    "ExecuteTime": {
     "end_time": "2022-06-09T08:47:50.411600Z",
     "start_time": "2022-06-09T08:47:50.384616Z"
    }
   },
   "source": [
    "El P-value per a una prova de dues cues és sempre dues vegades el P-value per a qualsevol de les proves d'una cua, per tant, hem el P-value d'aquesta prova l'hem de multiplicar per dos.\n",
    "\n",
    "Com que la mostra que hem agafat és de tamany 50, el nostre grau de llibertat és de n-1, per tant és de 49, i amb una alfa de 5%, quan mirem a la T.-table student, el valor que ens dona és 1.6766 (i de -1.6766 per la cua esquerre).\n",
    "\n",
    "El valor de T* és 1.3572, per tant es troba entre -1.6766 i 1.6766, o dit d'una altra manera, no és menor a -1.6766 ni major a 1.6766, per tant, no es rebutja la hipòtesi nul·la i descartem la hipòtesi alternativa."
   ]
  },
  {
   "cell_type": "markdown",
   "id": "c50cf5bb",
   "metadata": {},
   "source": [
    "\n",
    "\n",
    "## NIVELL 2\n",
    "### Exercici 2\n",
    "Continua amb el conjunt de dades de tema esportiu que t'agradi i selecciona dos altres atributs del conjunt de dades. Calcula els p-valors i digues si rebutgen la hipòtesi nul·la agafant un alfa de 5%.\n",
    "\n",
    "\n"
   ]
  },
  {
   "cell_type": "markdown",
   "id": "78e2b87a",
   "metadata": {},
   "source": [
    "Per realitzar aquest exercici utilitzaré els atributs \"Goals\" i \"Caps\" (número de partits jugats amb la selecció). Primer de tot estudio cada atribut per separat i després aplicaré el Student's t-test, que em permet comparar les dues variables."
   ]
  },
  {
   "cell_type": "code",
   "execution_count": 12,
   "id": "e7387af7",
   "metadata": {
    "ExecuteTime": {
     "end_time": "2022-06-13T15:10:33.310962Z",
     "start_time": "2022-06-13T15:10:33.249998Z"
    }
   },
   "outputs": [
    {
     "data": {
      "text/plain": [
       "0       0.0\n",
       "1      15.0\n",
       "2       9.0\n",
       "3       0.0\n",
       "4       2.0\n",
       "       ... \n",
       "547     4.0\n",
       "548     1.0\n",
       "549     0.0\n",
       "550     0.0\n",
       "551     0.0\n",
       "Name: Goals, Length: 520, dtype: float64"
      ]
     },
     "metadata": {},
     "output_type": "display_data"
    },
    {
     "data": {
      "text/plain": [
       "0       43.0\n",
       "1       50.0\n",
       "2       47.0\n",
       "3      155.0\n",
       "4      115.0\n",
       "       ...  \n",
       "547     49.0\n",
       "548     11.0\n",
       "549      1.0\n",
       "550      2.0\n",
       "551      3.0\n",
       "Name: Caps, Length: 520, dtype: float64"
      ]
     },
     "metadata": {},
     "output_type": "display_data"
    }
   ],
   "source": [
    "# Em quedo només amb les columnes que vull\n",
    "\n",
    "gols = women.Goals\n",
    "partits = women.Caps\n",
    "display(gols)\n",
    "display(partits)"
   ]
  },
  {
   "cell_type": "code",
   "execution_count": 13,
   "id": "c3efa0ca",
   "metadata": {
    "ExecuteTime": {
     "end_time": "2022-06-13T15:10:33.326952Z",
     "start_time": "2022-06-13T15:10:33.314959Z"
    }
   },
   "outputs": [
    {
     "data": {
      "text/plain": [
       "count    520.000000\n",
       "mean       7.348077\n",
       "std       15.541727\n",
       "min        0.000000\n",
       "25%        0.000000\n",
       "50%        1.500000\n",
       "75%        8.250000\n",
       "max      181.000000\n",
       "Name: Goals, dtype: float64"
      ]
     },
     "execution_count": 13,
     "metadata": {},
     "output_type": "execute_result"
    }
   ],
   "source": [
    "gols.describe()"
   ]
  },
  {
   "cell_type": "code",
   "execution_count": 14,
   "id": "1dcad30e",
   "metadata": {
    "ExecuteTime": {
     "end_time": "2022-06-13T15:10:33.374921Z",
     "start_time": "2022-06-13T15:10:33.329950Z"
    }
   },
   "outputs": [
    {
     "data": {
      "text/plain": [
       "count    520.000000\n",
       "mean      43.661538\n",
       "std       43.674846\n",
       "min        0.000000\n",
       "25%       11.750000\n",
       "50%       29.500000\n",
       "75%       62.000000\n",
       "max      282.000000\n",
       "Name: Caps, dtype: float64"
      ]
     },
     "execution_count": 14,
     "metadata": {},
     "output_type": "execute_result"
    }
   ],
   "source": [
    "partits.describe()"
   ]
  },
  {
   "cell_type": "code",
   "execution_count": 15,
   "id": "d5a2ab84",
   "metadata": {
    "ExecuteTime": {
     "end_time": "2022-06-13T15:10:33.422892Z",
     "start_time": "2022-06-13T15:10:33.376920Z"
    }
   },
   "outputs": [
    {
     "name": "stdout",
     "output_type": "stream",
     "text": [
      "310     0.0\n",
      "544     0.0\n",
      "209     5.0\n",
      "261     5.0\n",
      "551     0.0\n",
      "444     1.0\n",
      "278     0.0\n",
      "53      3.0\n",
      "389     1.0\n",
      "470    21.0\n",
      "84      0.0\n",
      "110     1.0\n",
      "413     0.0\n",
      "91      0.0\n",
      "263    10.0\n",
      "277     1.0\n",
      "70      1.0\n",
      "466    14.0\n",
      "404     0.0\n",
      "47      0.0\n",
      "193     3.0\n",
      "83      0.0\n",
      "238    17.0\n",
      "13      0.0\n",
      "107     1.0\n",
      "267     7.0\n",
      "89      0.0\n",
      "220     6.0\n",
      "338    10.0\n",
      "138     0.0\n",
      "249    32.0\n",
      "365     1.0\n",
      "212     0.0\n",
      "64      1.0\n",
      "348     9.0\n",
      "500     0.0\n",
      "383     0.0\n",
      "19      6.0\n",
      "317     3.0\n",
      "499     9.0\n",
      "319     6.0\n",
      "396    18.0\n",
      "315     0.0\n",
      "75     12.0\n",
      "7      18.0\n",
      "56     10.0\n",
      "377    27.0\n",
      "224     0.0\n",
      "540     0.0\n",
      "408     0.0\n",
      "Name: Goals, dtype: float64\n",
      "106      6.0\n",
      "57       0.0\n",
      "124     88.0\n",
      "117     55.0\n",
      "254     36.0\n",
      "49      21.0\n",
      "381     53.0\n",
      "405    104.0\n",
      "400     42.0\n",
      "432      1.0\n",
      "348    116.0\n",
      "186     18.0\n",
      "87      15.0\n",
      "25      11.0\n",
      "309     48.0\n",
      "496     15.0\n",
      "76      20.0\n",
      "318      8.0\n",
      "360     34.0\n",
      "285     12.0\n",
      "295      2.0\n",
      "272      1.0\n",
      "221     24.0\n",
      "395    166.0\n",
      "235     26.0\n",
      "484     59.0\n",
      "151     13.0\n",
      "226     40.0\n",
      "409     17.0\n",
      "258     32.0\n",
      "251     12.0\n",
      "376     20.0\n",
      "426     59.0\n",
      "63      34.0\n",
      "536     20.0\n",
      "417     69.0\n",
      "204      4.0\n",
      "346     11.0\n",
      "122    161.0\n",
      "71      14.0\n",
      "323     59.0\n",
      "502     81.0\n",
      "456     99.0\n",
      "325     31.0\n",
      "94      72.0\n",
      "523     12.0\n",
      "359     28.0\n",
      "488    135.0\n",
      "519     53.0\n",
      "447     77.0\n",
      "Name: Caps, dtype: float64\n"
     ]
    }
   ],
   "source": [
    "# Agafo una mostra al·leatòria de 50 valors de cada atribut\n",
    "\n",
    "mostraGols = gols.sample(n=50)\n",
    "mostraPartits = partits.sample(n=50)\n",
    "print(mostraGols)\n",
    "print(mostraPartits)"
   ]
  },
  {
   "cell_type": "code",
   "execution_count": 16,
   "id": "f775f290",
   "metadata": {
    "ExecuteTime": {
     "end_time": "2022-06-13T15:10:33.454871Z",
     "start_time": "2022-06-13T15:10:33.424890Z"
    }
   },
   "outputs": [
    {
     "data": {
      "text/plain": [
       "count    50.000000\n",
       "mean      5.180000\n",
       "std       7.604215\n",
       "min       0.000000\n",
       "25%       0.000000\n",
       "50%       1.000000\n",
       "75%       8.500000\n",
       "max      32.000000\n",
       "Name: Goals, dtype: float64"
      ]
     },
     "execution_count": 16,
     "metadata": {},
     "output_type": "execute_result"
    }
   ],
   "source": [
    "# En faig la descprició per veure les caracterísitques bàsiques\n",
    "\n",
    "mostraGols.describe()"
   ]
  },
  {
   "cell_type": "code",
   "execution_count": 17,
   "id": "0c7f2167",
   "metadata": {
    "ExecuteTime": {
     "end_time": "2022-06-13T15:10:33.489852Z",
     "start_time": "2022-06-13T15:10:33.457870Z"
    }
   },
   "outputs": [
    {
     "data": {
      "text/plain": [
       "count     50.000000\n",
       "mean      42.680000\n",
       "std       40.688684\n",
       "min        0.000000\n",
       "25%       13.250000\n",
       "50%       29.500000\n",
       "75%       59.000000\n",
       "max      166.000000\n",
       "Name: Caps, dtype: float64"
      ]
     },
     "execution_count": 17,
     "metadata": {},
     "output_type": "execute_result"
    }
   ],
   "source": [
    "# En faig la descprició per veure les caracterísitques bàsiques\n",
    "\n",
    "mostraPartits.describe()"
   ]
  },
  {
   "cell_type": "code",
   "execution_count": 18,
   "id": "e1f8e1fe",
   "metadata": {
    "ExecuteTime": {
     "end_time": "2022-06-13T15:10:33.742695Z",
     "start_time": "2022-06-13T15:10:33.494848Z"
    }
   },
   "outputs": [
    {
     "data": {
      "image/png": "[encoded data removed]",
      "text/plain": [
       "<Figure size 720x360 with 1 Axes>"
      ]
     },
     "metadata": {
      "needs_background": "light"
     },
     "output_type": "display_data"
    }
   ],
   "source": [
    "#Faig un gràfic amb la totalitat dels gols fets del dataset i amb la mostra per veure una mica com s'assemblen\n",
    "\n",
    "plt.figure(figsize=(10,5))\n",
    "fig = sns.kdeplot(mostraGols, shade=True, color=\"r\")\n",
    "fig = sns.kdeplot(women['Goals'], shade=True, color=\"b\")\n",
    "plt.show()"
   ]
  },
  {
   "cell_type": "code",
   "execution_count": 19,
   "id": "2e777613",
   "metadata": {
    "ExecuteTime": {
     "end_time": "2022-06-13T15:10:34.074493Z",
     "start_time": "2022-06-13T15:10:33.744694Z"
    }
   },
   "outputs": [
    {
     "data": {
      "image/png": "[encoded data removed]",
      "text/plain": [
       "<Figure size 720x360 with 1 Axes>"
      ]
     },
     "metadata": {
      "needs_background": "light"
     },
     "output_type": "display_data"
    }
   ],
   "source": [
    "#Faig un gràfic amb la totalitat dels partits jugats del dataset i amb la mostra per veure una mica com s'assemblen\n",
    "\n",
    "plt.figure(figsize=(10,5))\n",
    "fig = sns.kdeplot(mostraPartits, shade=True, color=\"r\")\n",
    "fig = sns.kdeplot(women['Caps'], shade=True, color=\"b\")\n",
    "plt.show()"
   ]
  },
  {
   "cell_type": "code",
   "execution_count": 20,
   "id": "c06f93c2",
   "metadata": {
    "ExecuteTime": {
     "end_time": "2022-06-13T15:10:34.296356Z",
     "start_time": "2022-06-13T15:10:34.076489Z"
    }
   },
   "outputs": [
    {
     "data": {
      "image/png": "[encoded data removed]",
      "text/plain": [
       "<Figure size 720x360 with 1 Axes>"
      ]
     },
     "metadata": {
      "needs_background": "light"
     },
     "output_type": "display_data"
    }
   ],
   "source": [
    "#Faig un gràfic amb la comparació dels dos datasets complerts\n",
    "\n",
    "plt.figure(figsize=(10,5))\n",
    "fig = sns.kdeplot(women['Goals'], shade=True, color=\"r\")\n",
    "fig = sns.kdeplot(women['Caps'], shade=True, color=\"b\")\n",
    "plt.show()"
   ]
  },
  {
   "cell_type": "code",
   "execution_count": 21,
   "id": "ac46ce5d",
   "metadata": {
    "ExecuteTime": {
     "end_time": "2022-06-13T15:10:34.519219Z",
     "start_time": "2022-06-13T15:10:34.299356Z"
    }
   },
   "outputs": [
    {
     "data": {
      "image/png": "[encoded data removed]",
      "text/plain": [
       "<Figure size 720x360 with 1 Axes>"
      ]
     },
     "metadata": {
      "needs_background": "light"
     },
     "output_type": "display_data"
    }
   ],
   "source": [
    "#Faig un gràfic amb la comparació de les dues mostres\n",
    "\n",
    "plt.figure(figsize=(10,5))\n",
    "fig = sns.kdeplot(mostraGols, shade=True, color=\"r\")\n",
    "fig = sns.kdeplot(mostraPartits, shade=True, color=\"b\")\n",
    "plt.show()"
   ]
  },
  {
   "cell_type": "markdown",
   "id": "e26282b1",
   "metadata": {},
   "source": [
    "Estableixo hipòtesi nul·la i hipòtesi alternativa\n",
    "\n",
    "En aquest cas, la hipòtesi nul·la és  que les mitjanes de les dues mostres són iguals:\n",
    "\n",
    "Ho: μ mostraGols = μ mostraPartits\n",
    "\n",
    "I com a hipòtesi alternativa, direm que les mitjanes de les dues mostres són diferents:\n",
    "\n",
    "H1: μ mostraGols ≠ μ mostraPartits\n",
    "\n",
    "\n",
    "\n",
    "Utilizaré el T-test perquè em permet comparar variables independents amb mostres bastant diferents"
   ]
  },
  {
   "cell_type": "code",
   "execution_count": 22,
   "id": "0287d715",
   "metadata": {
    "ExecuteTime": {
     "end_time": "2022-06-13T15:10:34.535209Z",
     "start_time": "2022-06-13T15:10:34.522217Z"
    }
   },
   "outputs": [
    {
     "name": "stdout",
     "output_type": "stream",
     "text": [
      "stat=-6.406, p=0.000\n",
      "Probablement una distribució diferent\n"
     ]
    }
   ],
   "source": [
    "# Importo les llibreries necessàries  i realitzo els càlculs que vull fer\n",
    "from scipy.stats import ttest_ind\n",
    "\n",
    "stat,p = ttest_ind(mostraGols,mostraPartits)\n",
    "print('stat=%.3f, p=%.3f' % (stat, p))\n",
    "if p > 0.05:\n",
    "    print('Probablement la mateixa distribució')\n",
    "else:\n",
    "    print('Probablement una distribució diferent')\n",
    "\n"
   ]
  },
  {
   "cell_type": "markdown",
   "id": "ac8225d4",
   "metadata": {},
   "source": [
    "En conclusió, el P-value és pràcticament nul, per tant és menor del 5% de la nostra alpha i per tant rebutgem la hipòtesis nul·la. \n",
    "En altres paraules, la relació entre partits jugats i gols fets no van gaire de la mà."
   ]
  },
  {
   "cell_type": "markdown",
   "id": "505ca85d",
   "metadata": {},
   "source": [
    "\n",
    "\n",
    "## NIVELL 3\n",
    "### Exercici 3\n",
    "Continua amb el conjunt de dades de tema esportiu que t'agradi i selecciona tres atributs del conjunt de dades. Calcula el p-valor i digues si rebutja la hipòtesi nul·la agafant un alfa de 5%.\n",
    "\n"
   ]
  },
  {
   "cell_type": "markdown",
   "id": "e2c2842a",
   "metadata": {},
   "source": [
    "No tinc prou atributs numèrics com per fer tot l'estudi anterior, així que utilizaré els tres que ja he fet servir, edat de les jugadores, gols fets i partits jugats.\n",
    "\n",
    "En aquest cas utilizaré el test d'anàlisi de la variança (ANOVA) ja que em permet comparar les mitjanes de dues o més mostres diferents"
   ]
  },
  {
   "cell_type": "code",
   "execution_count": 23,
   "id": "6e6e0513",
   "metadata": {
    "ExecuteTime": {
     "end_time": "2022-06-13T15:10:34.772062Z",
     "start_time": "2022-06-13T15:10:34.537207Z"
    }
   },
   "outputs": [
    {
     "data": {
      "image/png": "[encoded data removed]",
      "text/plain": [
       "<Figure size 720x360 with 1 Axes>"
      ]
     },
     "metadata": {
      "needs_background": "light"
     },
     "output_type": "display_data"
    }
   ],
   "source": [
    "#Faig un gràfic amb la comparació de les tres mostres\n",
    "\n",
    "plt.figure(figsize=(10,5))\n",
    "fig = sns.kdeplot(mostraGols, shade=True, color=\"r\")\n",
    "fig = sns.kdeplot(mostraPartits, shade=True, color=\"b\")\n",
    "fig = sns.kdeplot(mostraEdats, shade=True, color=\"y\")\n",
    "plt.show()"
   ]
  },
  {
   "cell_type": "code",
   "execution_count": 24,
   "id": "c5cdeaaa",
   "metadata": {
    "ExecuteTime": {
     "end_time": "2022-06-13T15:10:34.788051Z",
     "start_time": "2022-06-13T15:10:34.774062Z"
    }
   },
   "outputs": [
    {
     "name": "stdout",
     "output_type": "stream",
     "text": [
      "stat=30.779, p=0.000\n",
      "Probablement una distribució diferent\n"
     ]
    }
   ],
   "source": [
    "# Importo les llibreries necessàries  i realitzo els càlculs que vull fer\n",
    "from scipy.stats import f_oneway\n",
    "\n",
    "stat,p = f_oneway(mostraEdats, mostraGols,mostraPartits)\n",
    "print('stat=%.3f, p=%.3f' % (stat, p))\n",
    "if p > 0.05:\n",
    "    print('Probablement la mateixa distribució')\n",
    "else:\n",
    "    print('Probablement una distribució diferent')\n"
   ]
  },
  {
   "cell_type": "markdown",
   "id": "76e4cf77",
   "metadata": {},
   "source": [
    "Ens torna a passar com l'exercici anterior, les mitjanes de les tres mostres són tant diferents que el P-Value ens dona inferior al 5%, per tant rebutgem la hipòtesi nul·la i acceptem l'alternativa"
   ]
  },
  {
   "cell_type": "code",
   "execution_count": null,
   "id": "af6a5876",
   "metadata": {},
   "outputs": [],
   "source": []
  }
 ],
 "metadata": {
  "hide_input": false,
  "kernelspec": {
   "display_name": "Python 3 (ipykernel)",
   "language": "python",
   "name": "python3"
  },
  "language_info": {
   "codemirror_mode": {
    "name": "ipython",
    "version": 3
   },
   "file_extension": ".py",
   "mimetype": "text/x-python",
   "name": "python",
   "nbconvert_exporter": "python",
   "pygments_lexer": "ipython3",
   "version": "3.9.7"
  },
  "latex_envs": {
   "LaTeX_envs_menu_present": true,
   "autoclose": false,
   "autocomplete": true,
   "bibliofile": "biblio.bib",
   "cite_by": "apalike",
   "current_citInitial": 1,
   "eqLabelWithNumbers": true,
   "eqNumInitial": 1,
   "hotkeys": {
    "equation": "Ctrl-E",
    "itemize": "Ctrl-I"
   },
   "labels_anchors": false,
   "latex_user_defs": false,
   "report_style_numbering": false,
   "user_envs_cfg": false
  },
  "toc": {
   "base_numbering": 1,
   "nav_menu": {},
   "number_sections": true,
   "sideBar": true,
   "skip_h1_title": false,
   "title_cell": "Table of Contents",
   "title_sidebar": "Contents",
   "toc_cell": false,
   "toc_position": {},
   "toc_section_display": true,
   "toc_window_display": false
  },
  "varInspector": {
   "cols": {
    "lenName": 16,
    "lenType": 16,
    "lenVar": 40
   },
   "kernels_config": {
    "python": {
     "delete_cmd_postfix": "",
     "delete_cmd_prefix": "del ",
     "library": "var_list.py",
     "varRefreshCmd": "print(var_dic_list())"
    },
    "r": {
     "delete_cmd_postfix": ") ",
     "delete_cmd_prefix": "rm(",
     "library": "var_list.r",
     "varRefreshCmd": "cat(var_dic_list()) "
    }
   },
   "types_to_exclude": [
    "module",
    "function",
    "builtin_function_or_method",
    "instance",
    "_Feature"
   ],
   "window_display": false
  }
 },
 "nbformat": 4,
 "nbformat_minor": 5
}
